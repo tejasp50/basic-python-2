{
 "cells": [
  {
   "cell_type": "code",
   "execution_count": 1,
   "id": "42c3a6f4-f694-46a8-b880-c0d334ac3d79",
   "metadata": {},
   "outputs": [],
   "source": [
    "#read this dataset\n",
    "\n",
    "\n"
   ]
  },
  {
   "cell_type": "code",
   "execution_count": null,
   "id": "efc5f3af-1cdb-4c85-b71d-fc6eac64a1c5",
   "metadata": {},
   "outputs": [],
   "source": [
    "#0 +xplain the key featu$es of Python that \u0013ake it a popula$ choice fo$ p$og$a\u0013\u0013ing"
   ]
  },
  {
   "cell_type": "code",
   "execution_count": null,
   "id": "1de83f82-e41c-4c7b-90f4-8fd68fb9dc58",
   "metadata": {},
   "outputs": [],
   "source": [
    "#0 Desc$ibe the $ole of p$edefined keywo$ds in Python and p$ovide exa\u0013ples of how they a$e used in a \n",
    "p$og$a\u00130"
   ]
  },
  {
   "cell_type": "code",
   "execution_count": null,
   "id": "8440d830-8a00-431f-bdec-75cf2df8c2ce",
   "metadata": {},
   "outputs": [],
   "source": []
  }
 ],
 "metadata": {
  "kernelspec": {
   "display_name": "Python 3 (ipykernel)",
   "language": "python",
   "name": "python3"
  },
  "language_info": {
   "codemirror_mode": {
    "name": "ipython",
    "version": 3
   },
   "file_extension": ".py",
   "mimetype": "text/x-python",
   "name": "python",
   "nbconvert_exporter": "python",
   "pygments_lexer": "ipython3",
   "version": "3.10.8"
  }
 },
 "nbformat": 4,
 "nbformat_minor": 5
}
